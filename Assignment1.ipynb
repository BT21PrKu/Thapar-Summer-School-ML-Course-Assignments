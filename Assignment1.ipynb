{
  "nbformat": 4,
  "nbformat_minor": 0,
  "metadata": {
    "colab": {
      "provenance": [],
      "authorship_tag": "ABX9TyMFwFcQGK7gtC5U81dEa7nW",
      "include_colab_link": true
    },
    "kernelspec": {
      "name": "python3",
      "display_name": "Python 3"
    },
    "language_info": {
      "name": "python"
    }
  },
  "cells": [
    {
      "cell_type": "markdown",
      "metadata": {
        "id": "view-in-github",
        "colab_type": "text"
      },
      "source": [
        "<a href=\"https://colab.research.google.com/github/BT21PrKu/Thapar-Summer-School-ML-Course-Assignments/blob/main/Assignment1.ipynb\" target=\"_parent\"><img src=\"https://colab.research.google.com/assets/colab-badge.svg\" alt=\"Open In Colab\"/></a>"
      ]
    },
    {
      "cell_type": "markdown",
      "source": [
        "Q1."
      ],
      "metadata": {
        "id": "q_mN-wrfOZYz"
      }
    },
    {
      "cell_type": "code",
      "execution_count": null,
      "metadata": {
        "colab": {
          "base_uri": "https://localhost:8080/"
        },
        "id": "t-eWzDOTk27R",
        "outputId": "f452861b-af52-486d-8f34-099d24cf39e3"
      },
      "outputs": [
        {
          "output_type": "stream",
          "name": "stdout",
          "text": [
            "[11, 12, 13, 14, 50, 60]\n"
          ]
        }
      ],
      "source": [
        "L=[11,12,13,14]\n",
        "L.append(50)\n",
        "L.append(60)\n",
        "print(L)"
      ]
    },
    {
      "cell_type": "code",
      "source": [
        "L.remove(11)\n",
        "L.remove(13)\n",
        "print(L)"
      ],
      "metadata": {
        "colab": {
          "base_uri": "https://localhost:8080/"
        },
        "id": "eyw1SSfSntpK",
        "outputId": "7e1409aa-b1b8-4ef2-c0a2-be48bc44f7c4"
      },
      "execution_count": null,
      "outputs": [
        {
          "output_type": "stream",
          "name": "stdout",
          "text": [
            "[12, 14, 50, 60]\n"
          ]
        }
      ]
    },
    {
      "cell_type": "code",
      "source": [
        "L.sort()\n",
        "print(L)"
      ],
      "metadata": {
        "colab": {
          "base_uri": "https://localhost:8080/"
        },
        "id": "pFoZIfK5n4jI",
        "outputId": "78dca980-569d-4e93-ecbe-34afaa905355"
      },
      "execution_count": null,
      "outputs": [
        {
          "output_type": "stream",
          "name": "stdout",
          "text": [
            "[12, 14, 50, 60]\n"
          ]
        }
      ]
    },
    {
      "cell_type": "code",
      "source": [
        "L.sort(reverse=True)\n",
        "print(L)"
      ],
      "metadata": {
        "id": "KWr2ZMPdoSOt",
        "colab": {
          "base_uri": "https://localhost:8080/"
        },
        "outputId": "9df1a21c-b13d-435c-d9ac-113a3b45f1dd"
      },
      "execution_count": null,
      "outputs": [
        {
          "output_type": "stream",
          "name": "stdout",
          "text": [
            "[60, 50, 14, 12]\n"
          ]
        }
      ]
    },
    {
      "cell_type": "code",
      "source": [
        "L.append(13)\n",
        "x=L.index(13)\n",
        "print(x)"
      ],
      "metadata": {
        "colab": {
          "base_uri": "https://localhost:8080/"
        },
        "id": "8WuzX0J2OnCu",
        "outputId": "81e2e8a8-84f2-47d0-c117-7711e90beaf7"
      },
      "execution_count": null,
      "outputs": [
        {
          "output_type": "stream",
          "name": "stdout",
          "text": [
            "4\n"
          ]
        }
      ]
    },
    {
      "cell_type": "code",
      "source": [
        "print(len(L))"
      ],
      "metadata": {
        "colab": {
          "base_uri": "https://localhost:8080/"
        },
        "id": "NKEgJJhtPEOM",
        "outputId": "43627db1-ede4-490a-bef3-2043600bf891"
      },
      "execution_count": null,
      "outputs": [
        {
          "output_type": "stream",
          "name": "stdout",
          "text": [
            "5\n"
          ]
        }
      ]
    },
    {
      "cell_type": "code",
      "source": [
        "sum(L)"
      ],
      "metadata": {
        "colab": {
          "base_uri": "https://localhost:8080/"
        },
        "id": "D9GCeN9nPJK-",
        "outputId": "385baa27-792d-4420-cc41-9390616df17a"
      },
      "execution_count": null,
      "outputs": [
        {
          "output_type": "execute_result",
          "data": {
            "text/plain": [
              "149"
            ]
          },
          "metadata": {},
          "execution_count": 10
        }
      ]
    },
    {
      "cell_type": "code",
      "source": [
        "s=0\n",
        "for i in range(len(L)):\n",
        "  if L[i]%2!=0:\n",
        "    s+=L[i]\n",
        "print(s)"
      ],
      "metadata": {
        "colab": {
          "base_uri": "https://localhost:8080/"
        },
        "id": "tyNnxjVuPPGC",
        "outputId": "dcae761e-d2ce-4457-c31f-ab836c851d51"
      },
      "execution_count": null,
      "outputs": [
        {
          "output_type": "stream",
          "name": "stdout",
          "text": [
            "13\n"
          ]
        }
      ]
    },
    {
      "cell_type": "code",
      "source": [
        "s=0\n",
        "for i in range(len(L)):\n",
        "  if L[i]%2==0:\n",
        "    s+=L[i]\n",
        "print(s)"
      ],
      "metadata": {
        "colab": {
          "base_uri": "https://localhost:8080/"
        },
        "id": "_00QI-4TSWbY",
        "outputId": "5817625c-1510-4b55-e8c2-fad49d0d0fd4"
      },
      "execution_count": null,
      "outputs": [
        {
          "output_type": "stream",
          "name": "stdout",
          "text": [
            "136\n"
          ]
        }
      ]
    },
    {
      "cell_type": "code",
      "source": [
        "L=[11,12,13,14]\n",
        "L.clear()\n",
        "print(L)"
      ],
      "metadata": {
        "colab": {
          "base_uri": "https://localhost:8080/"
        },
        "id": "O2wBPPdqUqtx",
        "outputId": "7c09ee43-73cc-4e41-a81a-526758a4a3c0"
      },
      "execution_count": null,
      "outputs": [
        {
          "output_type": "stream",
          "name": "stdout",
          "text": [
            "[]\n"
          ]
        }
      ]
    },
    {
      "cell_type": "code",
      "source": [
        "del L"
      ],
      "metadata": {
        "id": "LJ-4P9BcUyuq"
      },
      "execution_count": null,
      "outputs": []
    },
    {
      "cell_type": "markdown",
      "source": [
        "Q2."
      ],
      "metadata": {
        "id": "OS9a-NiOVWdb"
      }
    },
    {
      "cell_type": "code",
      "source": [
        "D= {1:5.6,2:7.8,3:6.6,4:8.7,5:7.7}\n",
        "D[8]=8.8"
      ],
      "metadata": {
        "id": "Vbiokk4vVVfk"
      },
      "execution_count": null,
      "outputs": []
    },
    {
      "cell_type": "code",
      "source": [
        "del D[2]"
      ],
      "metadata": {
        "id": "dUvVCyHKVmtA"
      },
      "execution_count": null,
      "outputs": []
    },
    {
      "cell_type": "code",
      "source": [
        "if 6 in D.keys():\n",
        "    print(\"present\")\n",
        "else:\n",
        "    print(\"not present\")"
      ],
      "metadata": {
        "colab": {
          "base_uri": "https://localhost:8080/"
        },
        "id": "JudC9wkMVn3v",
        "outputId": "35c340b3-367c-4bbb-fa36-8e59126d5a50"
      },
      "execution_count": null,
      "outputs": [
        {
          "output_type": "stream",
          "name": "stdout",
          "text": [
            "not present\n"
          ]
        }
      ]
    },
    {
      "cell_type": "code",
      "source": [
        "print(len(D))"
      ],
      "metadata": {
        "colab": {
          "base_uri": "https://localhost:8080/"
        },
        "id": "nNOL0XYMVodB",
        "outputId": "da95f0a8-9e24-4063-d8c6-e164f0a41dae"
      },
      "execution_count": null,
      "outputs": [
        {
          "output_type": "stream",
          "name": "stdout",
          "text": [
            "5\n"
          ]
        }
      ]
    },
    {
      "cell_type": "code",
      "source": [
        "sum(D.values())"
      ],
      "metadata": {
        "colab": {
          "base_uri": "https://localhost:8080/"
        },
        "id": "uIIH1RGuV4Dc",
        "outputId": "e538fca8-bbb9-4172-a564-91b296866401"
      },
      "execution_count": null,
      "outputs": [
        {
          "output_type": "execute_result",
          "data": {
            "text/plain": [
              "37.4"
            ]
          },
          "metadata": {},
          "execution_count": 37
        }
      ]
    },
    {
      "cell_type": "code",
      "source": [
        "D[3] = 7.1"
      ],
      "metadata": {
        "id": "5Z-NNYV4WT8U"
      },
      "execution_count": null,
      "outputs": []
    },
    {
      "cell_type": "code",
      "source": [
        "D.clear()\n",
        "print(D)"
      ],
      "metadata": {
        "colab": {
          "base_uri": "https://localhost:8080/"
        },
        "id": "z56rLp-ZWm8r",
        "outputId": "02faf0fb-da35-41dd-d206-8a7bfb636aea"
      },
      "execution_count": null,
      "outputs": [
        {
          "output_type": "stream",
          "name": "stdout",
          "text": [
            "{}\n"
          ]
        }
      ]
    },
    {
      "cell_type": "markdown",
      "source": [
        "Q3."
      ],
      "metadata": {
        "id": "i36Q_fXSWrOn"
      }
    },
    {
      "cell_type": "code",
      "source": [
        "S1 = {10,20,30,40,50,60}\n",
        "S2= {40, 50, 60, 70, 80, 90}\n",
        "S1.add(55)\n",
        "S1.add(66)"
      ],
      "metadata": {
        "id": "uErJ18LJWsl3"
      },
      "execution_count": null,
      "outputs": []
    },
    {
      "cell_type": "code",
      "source": [
        "S1.remove(10)\n",
        "S1.remove(30)"
      ],
      "metadata": {
        "id": "OQaaWyNAXU1X"
      },
      "execution_count": null,
      "outputs": []
    },
    {
      "cell_type": "code",
      "source": [
        "if 40 in S1:\n",
        "    print(\"present\")\n",
        "else: \n",
        "    print(\"not present\")"
      ],
      "metadata": {
        "colab": {
          "base_uri": "https://localhost:8080/"
        },
        "id": "PFFimkPKXUdB",
        "outputId": "3538b924-bb80-4dbd-a641-56bd333ea48c"
      },
      "execution_count": null,
      "outputs": [
        {
          "output_type": "stream",
          "name": "stdout",
          "text": [
            "present\n"
          ]
        }
      ]
    },
    {
      "cell_type": "code",
      "source": [
        "x=S1.union(S2)\n",
        "print(x)"
      ],
      "metadata": {
        "colab": {
          "base_uri": "https://localhost:8080/"
        },
        "id": "cjDq-yPSXUMb",
        "outputId": "edfa512f-ea55-4125-b5a3-7f78798ecfa3"
      },
      "execution_count": null,
      "outputs": [
        {
          "output_type": "stream",
          "name": "stdout",
          "text": [
            "{66, 70, 40, 80, 50, 20, 55, 90, 60}\n"
          ]
        }
      ]
    },
    {
      "cell_type": "code",
      "source": [
        "y=S1.intersection(S2)\n",
        "print(y)"
      ],
      "metadata": {
        "colab": {
          "base_uri": "https://localhost:8080/"
        },
        "id": "13qQ9E94XT7P",
        "outputId": "5dd66b37-8c23-499a-9f61-88754a5be237"
      },
      "execution_count": null,
      "outputs": [
        {
          "output_type": "stream",
          "name": "stdout",
          "text": [
            "{40, 50, 60}\n"
          ]
        }
      ]
    },
    {
      "cell_type": "code",
      "source": [
        "z=S1-S2\n",
        "print(z)"
      ],
      "metadata": {
        "colab": {
          "base_uri": "https://localhost:8080/"
        },
        "id": "NFlpBmnwXvpK",
        "outputId": "63f3e2ff-7739-4cdd-c99e-f2bd3074de94"
      },
      "execution_count": null,
      "outputs": [
        {
          "output_type": "stream",
          "name": "stdout",
          "text": [
            "{66, 20, 55}\n"
          ]
        }
      ]
    },
    {
      "cell_type": "markdown",
      "source": [
        "Q4."
      ],
      "metadata": {
        "id": "1pi2Sbq5X1vS"
      }
    },
    {
      "cell_type": "code",
      "source": [
        "import string as s\n",
        "import random as r\n",
        "L=[]\n",
        "i=1\n",
        "while i<=10:\n",
        "  x=r.randint(6,8)\n",
        "  for i in range(x):\n",
        "    y=\"\".join(r.choices(s.ascii_letters+s.digits+s.punctuation))\n",
        "    L.append(y)\n",
        "print(y)\n"
      ],
      "metadata": {
        "id": "tntUMWfbX3uv"
      },
      "execution_count": null,
      "outputs": []
    },
    {
      "cell_type": "code",
      "source": [
        "for number in range (600,800 + 1):  \n",
        "    if number > 1:  \n",
        "        for i in range (2, number):  \n",
        "            if (number % i) == 0:  \n",
        "                break  \n",
        "        else:  \n",
        "            print (number)  "
      ],
      "metadata": {
        "colab": {
          "base_uri": "https://localhost:8080/"
        },
        "id": "juNeFu0RX3_c",
        "outputId": "1beab5dd-2e07-4798-c709-7b23d660bc28"
      },
      "execution_count": null,
      "outputs": [
        {
          "output_type": "stream",
          "name": "stdout",
          "text": [
            "601\n",
            "607\n",
            "613\n",
            "617\n",
            "619\n",
            "631\n",
            "641\n",
            "643\n",
            "647\n",
            "653\n",
            "659\n",
            "661\n",
            "673\n",
            "677\n",
            "683\n",
            "691\n",
            "701\n",
            "709\n",
            "719\n",
            "727\n",
            "733\n",
            "739\n",
            "743\n",
            "751\n",
            "757\n",
            "761\n",
            "769\n",
            "773\n",
            "787\n",
            "797\n"
          ]
        }
      ]
    },
    {
      "cell_type": "code",
      "source": [
        "L = []\n",
        "for i in range(100,1001):\n",
        "    if i%63==0:\n",
        "        L.append(i)\n",
        "print(L)"
      ],
      "metadata": {
        "colab": {
          "base_uri": "https://localhost:8080/"
        },
        "id": "CWUaONGzX33h",
        "outputId": "5904f333-206d-4541-c7d4-7a3ffff3a9db"
      },
      "execution_count": null,
      "outputs": [
        {
          "output_type": "stream",
          "name": "stdout",
          "text": [
            "[126, 189, 252, 315, 378, 441, 504, 567, 630, 693, 756, 819, 882, 945]\n"
          ]
        }
      ]
    },
    {
      "cell_type": "markdown",
      "source": [
        "Q5."
      ],
      "metadata": {
        "id": "7F_LZhq0aVZO"
      }
    },
    {
      "cell_type": "code",
      "source": [
        "import random as r\n",
        "r1 = r.sample(range(10,30), 10)\n",
        "r2 = r.sample(range(10,30), 10)\n",
        "print(r1)\n",
        "print(r2)"
      ],
      "metadata": {
        "colab": {
          "base_uri": "https://localhost:8080/"
        },
        "id": "kGKQmx3waaTO",
        "outputId": "2c52647e-cd4d-44aa-903c-6006e7681830"
      },
      "execution_count": null,
      "outputs": [
        {
          "output_type": "stream",
          "name": "stdout",
          "text": [
            "[14, 13, 18, 28, 12, 10, 24, 29, 26, 22]\n",
            "[25, 14, 16, 18, 23, 15, 27, 19, 24, 21]\n"
          ]
        }
      ]
    },
    {
      "cell_type": "code",
      "source": [
        "a = set(r1)\n",
        "b = set(r2)\n",
        "c = a&b\n",
        "print(c)"
      ],
      "metadata": {
        "colab": {
          "base_uri": "https://localhost:8080/"
        },
        "id": "OvzBcU1Eaa-U",
        "outputId": "12f68a3f-38d0-4694-aba7-bf78fbbbf751"
      },
      "execution_count": null,
      "outputs": [
        {
          "output_type": "stream",
          "name": "stdout",
          "text": [
            "{24, 18, 14}\n"
          ]
        }
      ]
    },
    {
      "cell_type": "code",
      "source": [
        "a = set(r1)\n",
        "b = set(r2)\n",
        "print(a-(a&b))\n",
        "print(b-(b&a))"
      ],
      "metadata": {
        "colab": {
          "base_uri": "https://localhost:8080/"
        },
        "id": "qhFqkIsiaazI",
        "outputId": "35b513d1-2b1d-4a6a-ea10-73ece1505d88"
      },
      "execution_count": null,
      "outputs": [
        {
          "output_type": "stream",
          "name": "stdout",
          "text": [
            "{10, 12, 13, 22, 26, 28, 29}\n",
            "{15, 16, 19, 21, 23, 25, 27}\n"
          ]
        }
      ]
    },
    {
      "cell_type": "code",
      "source": [
        "\n",
        "print(min(r1))\n",
        "print(min(r2))"
      ],
      "metadata": {
        "colab": {
          "base_uri": "https://localhost:8080/"
        },
        "id": "POjFZUcGaaoX",
        "outputId": "bc6e972d-f1ad-474e-bfb4-00d323587f93"
      },
      "execution_count": null,
      "outputs": [
        {
          "output_type": "stream",
          "name": "stdout",
          "text": [
            "10\n",
            "14\n"
          ]
        }
      ]
    },
    {
      "cell_type": "code",
      "source": [
        "\n",
        "print(max(r1))\n",
        "print(max(r2))"
      ],
      "metadata": {
        "colab": {
          "base_uri": "https://localhost:8080/"
        },
        "id": "dmCxEHIXaacf",
        "outputId": "9756c362-e5af-4d24-b13b-5579f7480dc7"
      },
      "execution_count": null,
      "outputs": [
        {
          "output_type": "stream",
          "name": "stdout",
          "text": [
            "29\n",
            "27\n"
          ]
        }
      ]
    },
    {
      "cell_type": "code",
      "source": [
        "print(sum(r1))\n",
        "print(sum(r2))"
      ],
      "metadata": {
        "colab": {
          "base_uri": "https://localhost:8080/"
        },
        "id": "NHy_VTTWb8uY",
        "outputId": "05143cfc-fcd5-4430-dc65-79cde63993f7"
      },
      "execution_count": null,
      "outputs": [
        {
          "output_type": "stream",
          "name": "stdout",
          "text": [
            "196\n",
            "202\n"
          ]
        }
      ]
    },
    {
      "cell_type": "markdown",
      "source": [
        "Q6."
      ],
      "metadata": {
        "id": "Nf0HPp9mcEKV"
      }
    },
    {
      "cell_type": "code",
      "source": [
        "import random as r\n",
        "L=r.sample(range(100,900),100)\n",
        "print(L)"
      ],
      "metadata": {
        "colab": {
          "base_uri": "https://localhost:8080/"
        },
        "id": "L5KS2gxscFgp",
        "outputId": "68653732-6ca2-43b7-a680-f60521d9f455"
      },
      "execution_count": null,
      "outputs": [
        {
          "output_type": "stream",
          "name": "stdout",
          "text": [
            "[123, 589, 791, 639, 696, 563, 449, 611, 357, 240, 170, 724, 844, 629, 206, 299, 648, 727, 517, 645, 428, 658, 101, 167, 351, 179, 228, 763, 388, 294, 507, 829, 547, 895, 339, 256, 223, 886, 122, 405, 590, 513, 471, 161, 680, 740, 350, 721, 650, 377, 174, 664, 323, 424, 495, 213, 654, 286, 295, 691, 864, 530, 855, 516, 287, 474, 770, 222, 760, 510, 473, 780, 616, 750, 398, 865, 209, 444, 537, 693, 699, 622, 741, 601, 744, 812, 859, 698, 690, 262, 363, 787, 291, 451, 190, 200, 465, 628, 792, 245]\n"
          ]
        }
      ]
    },
    {
      "cell_type": "code",
      "source": [
        "O=[]\n",
        "for x in L :\n",
        "  if x%2!=0:\n",
        "    O.append(x)\n",
        "print(O)\n",
        "  "
      ],
      "metadata": {
        "colab": {
          "base_uri": "https://localhost:8080/"
        },
        "id": "tkoC0a4RcF8D",
        "outputId": "d5692882-1048-4dfb-e165-49400cbc6a81"
      },
      "execution_count": null,
      "outputs": [
        {
          "output_type": "stream",
          "name": "stdout",
          "text": [
            "[123, 589, 791, 639, 563, 449, 611, 357, 629, 299, 727, 517, 645, 101, 167, 351, 179, 763, 507, 829, 547, 895, 339, 223, 405, 513, 471, 161, 721, 377, 323, 495, 213, 295, 691, 855, 287, 473, 865, 209, 537, 693, 699, 741, 601, 859, 363, 787, 291, 451, 465, 245]\n"
          ]
        }
      ]
    },
    {
      "cell_type": "code",
      "source": [
        "E=[]\n",
        "for x in L :\n",
        "  if x%2==0:\n",
        "    E.append(x)\n",
        "print(E)"
      ],
      "metadata": {
        "colab": {
          "base_uri": "https://localhost:8080/"
        },
        "id": "HyXk_uJncFo5",
        "outputId": "43e11084-8dd0-4dbb-a0cd-66dc037bc961"
      },
      "execution_count": null,
      "outputs": [
        {
          "output_type": "stream",
          "name": "stdout",
          "text": [
            "[696, 240, 170, 724, 844, 206, 648, 428, 658, 228, 388, 294, 256, 886, 122, 590, 680, 740, 350, 650, 174, 664, 424, 654, 286, 864, 530, 516, 474, 770, 222, 760, 510, 780, 616, 750, 398, 444, 622, 744, 812, 698, 690, 262, 190, 200, 628, 792]\n"
          ]
        }
      ]
    },
    {
      "cell_type": "code",
      "source": [
        "P=[]\n",
        "for x in L :\n",
        "  if is_prime(x):\n",
        "    P.append(x)\n",
        "print(P)"
      ],
      "metadata": {
        "id": "ymkcFZQzfGdB"
      },
      "execution_count": null,
      "outputs": []
    },
    {
      "cell_type": "markdown",
      "source": [
        "Q7."
      ],
      "metadata": {
        "id": "GPNID6QGfx2O"
      }
    },
    {
      "cell_type": "code",
      "source": [
        "D = {1:\"One\",2:\"Two\",3:\"Three\",4:\"Four\", 5:\"Five\"}\n",
        "for key,value in D.items():\n",
        "    print(\"{:<10} {:<10} \".format(key,value))"
      ],
      "metadata": {
        "colab": {
          "base_uri": "https://localhost:8080/"
        },
        "id": "RzAsMzKmfzWQ",
        "outputId": "33048e13-ba1c-4730-fc1d-6a04794a7fbf"
      },
      "execution_count": null,
      "outputs": [
        {
          "output_type": "stream",
          "name": "stdout",
          "text": [
            "1          One        \n",
            "2          Two        \n",
            "3          Three      \n",
            "4          Four       \n",
            "5          Five       \n"
          ]
        }
      ]
    },
    {
      "cell_type": "markdown",
      "source": [
        "Q10."
      ],
      "metadata": {
        "id": "NYVbiqrzhEuy"
      }
    },
    {
      "cell_type": "code",
      "source": [
        "def is_prime(n):\n",
        "    if n == 1:\n",
        "        return False\n",
        "    i = 2\n",
        "    while i*i <= n :\n",
        "        if n%i == 0:\n",
        "            return False\n",
        "        i+= 1\n",
        "    return True\n",
        "prime_list = []\n",
        "for j in range(600,801):\n",
        "    if is_prime(j):\n",
        "        prime_list.append(j)\n",
        "print(prime_list)"
      ],
      "metadata": {
        "colab": {
          "base_uri": "https://localhost:8080/"
        },
        "id": "VUWETrLohwF6",
        "outputId": "3fd6eef5-4303-429d-c069-d794c99bc5b4"
      },
      "execution_count": null,
      "outputs": [
        {
          "output_type": "stream",
          "name": "stdout",
          "text": [
            "[601, 607, 613, 617, 619, 631, 641, 643, 647, 653, 659, 661, 673, 677, 683, 691, 701, 709, 719, 727, 733, 739, 743, 751, 757, 761, 769, 773, 787, 797]\n"
          ]
        }
      ]
    },
    {
      "cell_type": "markdown",
      "source": [
        "Q11."
      ],
      "metadata": {
        "id": "iYgpLl0fiLOj"
      }
    },
    {
      "cell_type": "code",
      "source": [
        "import time as t\n",
        "\n",
        "start = t.time()\n",
        "\n",
        "a=10\n",
        "b=20\n",
        "c=a+b\n",
        "print(c)\n",
        "\n",
        "end = t.time()\n",
        "print(end - start)"
      ],
      "metadata": {
        "colab": {
          "base_uri": "https://localhost:8080/"
        },
        "id": "RuIuWBI_iMvO",
        "outputId": "629bf6b3-e005-4872-fd9b-0216ab55501f"
      },
      "execution_count": null,
      "outputs": [
        {
          "output_type": "stream",
          "name": "stdout",
          "text": [
            "30\n",
            "0.0008149147033691406\n"
          ]
        }
      ]
    },
    {
      "cell_type": "markdown",
      "source": [],
      "metadata": {
        "id": "hb14H969i1P1"
      }
    }
  ]
}