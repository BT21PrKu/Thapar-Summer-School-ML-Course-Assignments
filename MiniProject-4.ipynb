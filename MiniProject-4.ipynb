{
  "nbformat": 4,
  "nbformat_minor": 0,
  "metadata": {
    "colab": {
      "provenance": [],
      "authorship_tag": "ABX9TyOMn1Pt+C/5qblOM/W1Jxi2",
      "include_colab_link": true
    },
    "kernelspec": {
      "name": "python3",
      "display_name": "Python 3"
    },
    "language_info": {
      "name": "python"
    }
  },
  "cells": [
    {
      "cell_type": "markdown",
      "metadata": {
        "id": "view-in-github",
        "colab_type": "text"
      },
      "source": [
        "<a href=\"https://colab.research.google.com/github/BT21PrKu/Thapar-Summer-School-ML-Course-Assignments/blob/main/MiniProject-4.ipynb\" target=\"_parent\"><img src=\"https://colab.research.google.com/assets/colab-badge.svg\" alt=\"Open In Colab\"/></a>"
      ]
    },
    {
      "cell_type": "markdown",
      "source": [
        "Mini Project - 04"
      ],
      "metadata": {
        "id": "csAGq3UnV3QS"
      }
    },
    {
      "cell_type": "code",
      "execution_count": null,
      "metadata": {
        "id": "C0V-4nWTVqjH"
      },
      "outputs": [],
      "source": [
        "import pandas as pd\n",
        "\n",
        "\n",
        "df = pd.read_csv(\"/content/Mini Project - Marks Adding.csv\")\n",
        "df[\"Marks\"] = df[\"Marks\"].astype(str)\n",
        "df[\"Sum of Marks\"] = df[\"Marks\"].apply(lambda x: sum(map(int, x.split(\",\"))))\n",
        "\n",
        "df.to_csv(\"/content/output_MarksAdding.csv\", index=False)\n"
      ]
    }
  ]
}